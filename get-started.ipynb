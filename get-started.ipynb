{
 "cells": [
  {
   "metadata": {
    "ExecuteTime": {
     "end_time": "2025-01-28T01:11:09.040822Z",
     "start_time": "2025-01-28T01:11:09.034835Z"
    }
   },
   "cell_type": "code",
   "source": "## MLFLOW Tracking Server",
   "id": "71d33ca75ae1db59",
   "outputs": [],
   "execution_count": 1
  },
  {
   "metadata": {
    "ExecuteTime": {
     "end_time": "2025-01-28T01:15:06.873969Z",
     "start_time": "2025-01-28T01:15:06.872022Z"
    }
   },
   "cell_type": "code",
   "source": "import mlflow",
   "id": "3f38879f5ed4731f",
   "outputs": [],
   "execution_count": 4
  },
  {
   "metadata": {
    "ExecuteTime": {
     "end_time": "2025-01-28T01:15:07.995566Z",
     "start_time": "2025-01-28T01:15:07.992748Z"
    }
   },
   "cell_type": "code",
   "source": "mlflow.set_tracking_uri(\"http://localhost:5000\")",
   "id": "fcfabfbc6eee5973",
   "outputs": [],
   "execution_count": 5
  },
  {
   "metadata": {
    "ExecuteTime": {
     "end_time": "2025-01-28T01:20:28.174296Z",
     "start_time": "2025-01-28T01:20:28.148320Z"
    }
   },
   "cell_type": "code",
   "source": [
    "mlflow.set_experiment(\"Check localhost connection\")\n",
    "\n",
    "with mlflow.start_run():\n",
    "    mlflow.log_metric(\"test1\", 1)\n",
    "    mlflow.log_metric(\"Gabriel1\", 2)"
   ],
   "id": "a02b1437cf160c08",
   "outputs": [
    {
     "name": "stdout",
     "output_type": "stream",
     "text": [
      "🏃 View run chill-sponge-572 at: http://localhost:5000/#/experiments/813645100772155673/runs/162d4c41d418427581f71d1babac7264\n",
      "🧪 View experiment at: http://localhost:5000/#/experiments/813645100772155673\n"
     ]
    }
   ],
   "execution_count": 9
  },
  {
   "metadata": {
    "ExecuteTime": {
     "end_time": "2025-01-28T01:30:36.572251Z",
     "start_time": "2025-01-28T01:30:36.544159Z"
    }
   },
   "cell_type": "code",
   "source": [
    "with mlflow.start_run():\n",
    "    mlflow.log_metric(\"test2\", 1)\n",
    "    mlflow.log_metric(\"Gabriel2\", 2)"
   ],
   "id": "4d0e3b1696ca4cc0",
   "outputs": [
    {
     "name": "stdout",
     "output_type": "stream",
     "text": [
      "🏃 View run industrious-toad-66 at: http://localhost:5000/#/experiments/813645100772155673/runs/68ba3188c3204c72a2ba121716fc6712\n",
      "🧪 View experiment at: http://localhost:5000/#/experiments/813645100772155673\n"
     ]
    }
   ],
   "execution_count": 10
  }
 ],
 "metadata": {
  "kernelspec": {
   "name": "python3",
   "language": "python",
   "display_name": "Python 3 (ipykernel)"
  }
 },
 "nbformat": 5,
 "nbformat_minor": 9
}
